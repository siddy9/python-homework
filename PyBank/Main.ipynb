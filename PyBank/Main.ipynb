{
 "cells": [
  {
   "cell_type": "code",
   "execution_count": 45,
   "id": "89b8c247-4132-4178-9e20-e3059104f996",
   "metadata": {},
   "outputs": [],
   "source": [
    "from pathlib import Path\n",
    "import csv"
   ]
  },
  {
   "cell_type": "code",
   "execution_count": 46,
   "id": "3d96f657-ae9a-47e1-91a1-9cf81c4c3841",
   "metadata": {},
   "outputs": [],
   "source": [
    "max_pnl = 0\n",
    "min_pnl = 0\n",
    "total_pnl = 0\n",
    "pnl = []\n",
    "pnl_dates = []\n",
    "pnl_change = []\n"
   ]
  },
  {
   "cell_type": "code",
   "execution_count": 47,
   "id": "147735a1-f2ab-4bf7-9cbf-410647723dd1",
   "metadata": {},
   "outputs": [],
   "source": [
    "csvpath = Path(\"budget_data.csv\") "
   ]
  },
  {
   "cell_type": "code",
   "execution_count": 48,
   "id": "2a7435a3-1451-4e52-abca-9d044c2781df",
   "metadata": {},
   "outputs": [],
   "source": [
    "##Pass through csv.reader function and populate lists for calculations\n",
    "with open(csvpath, 'r') as csvfile:\n",
    "    csv_reader = csv.reader(csvfile, delimiter = ',')\n",
    "    csv_header = next(csv_reader)\n",
    "    for row in csv_reader:\n",
    "        pnl.append(int(row[1]))\n",
    "        pnl_dates.append(row[0])\n",
    "        total_pnl += int(row[1])"
   ]
  },
  {
   "cell_type": "code",
   "execution_count": 50,
   "id": "80a5b3aa-4d7d-408f-a8e0-976079ffacf2",
   "metadata": {},
   "outputs": [],
   "source": [
    "for x in range(1, len(pnl)):\n",
    "    change = pnl[x] - pnl[x - 1]\n",
    "    pnl_change.append(int(change))\n",
    "\n",
    "avg_change = round(sum(pnl_change)/len(pnl_change), 2)"
   ]
  },
  {
   "cell_type": "code",
   "execution_count": 51,
   "id": "4e05270d-9839-4e30-8788-3be49fe5b80c",
   "metadata": {},
   "outputs": [],
   "source": [
    "##Logic to determine max profit and loss\n",
    "\n",
    "for profloss in pnl:\n",
    "    if profloss > max_pnl:\n",
    "        max_pnl = profloss\n",
    "    elif profloss < min_pnl:\n",
    "        min_pnl = profloss"
   ]
  },
  {
   "cell_type": "code",
   "execution_count": 52,
   "id": "526080b0-dcbe-4249-870d-2a8c7441caaf",
   "metadata": {},
   "outputs": [],
   "source": [
    "##Indexing dates to max profit and loss \n",
    "\n",
    "max_pnl_index = pnl.index(max_pnl)\n",
    "min_pnl_index = pnl.index(min_pnl)\n",
    "\n",
    "max_pnl_date = pnl_dates[max_pnl_index]\n",
    "min_pnl_date = pnl_dates[min_pnl_index]"
   ]
  },
  {
   "cell_type": "code",
   "execution_count": 53,
   "id": "95b9ba58-378a-4133-8927-1e1f5225c160",
   "metadata": {},
   "outputs": [
    {
     "name": "stdout",
     "output_type": "stream",
     "text": [
      "Financial Analysis\n",
      "-------------------\n",
      "Total Months: 86\n",
      "Net total: $38382578\n",
      "Average Change: $-2315.12\n",
      "Greatest increase in profits: Feb-2012 ($1170593)\n",
      "Greatest decrease in profits: Sep-2013 ($-1196225)\n"
     ]
    }
   ],
   "source": [
    "##Print calculations to terminal\n",
    "\n",
    "print(\"Financial Analysis\")\n",
    "print(\"-------------------\")\n",
    "print(f\"Total Months: {len(pnl)}\")\n",
    "print(f\"Net total: ${total_pnl}\")\n",
    "print(f\"Average Change: ${avg_change}\")\n",
    "print(f\"Greatest increase in profits: {max_pnl_date} (${max_pnl})\")\n",
    "print(f\"Greatest decrease in profits: {min_pnl_date} (${min_pnl})\")"
   ]
  },
  {
   "cell_type": "code",
   "execution_count": 54,
   "id": "195e2e9f-2d19-4e71-9dea-899a2d160065",
   "metadata": {},
   "outputs": [],
   "source": [
    "##Write calculations to text file\n",
    "\n",
    "with open('financial_analysis.txt', 'w') as f:\n",
    "    f.write(\"Financial Analysis\\n\")\n",
    "    f.write(\"-------------------\\n\")\n",
    "    f.write(f\"Total Months: {len(pnl)}\\n\")\n",
    "    f.write(f\"Net Total: ${total_pnl}\\n\")\n",
    "    f.write(f\"Average Change: ${avg_change}\\n\")\n",
    "    f.write(f\"Greatest increase in profits: {max_pnl_date} (${max_pnl})\\n\")\n",
    "    f.write(f\"Greatest decrease in profits: {min_pnl_date} (${min_pnl})\")"
   ]
  },
  {
   "cell_type": "code",
   "execution_count": null,
   "id": "50f065f4-2f55-4cf0-970c-2d5bf24b4a68",
   "metadata": {},
   "outputs": [],
   "source": []
  }
 ],
 "metadata": {
  "kernelspec": {
   "display_name": "Python 3",
   "language": "python",
   "name": "python3"
  },
  "language_info": {
   "codemirror_mode": {
    "name": "ipython",
    "version": 3
   },
   "file_extension": ".py",
   "mimetype": "text/x-python",
   "name": "python",
   "nbconvert_exporter": "python",
   "pygments_lexer": "ipython3",
   "version": "3.8.8"
  }
 },
 "nbformat": 4,
 "nbformat_minor": 5
}
